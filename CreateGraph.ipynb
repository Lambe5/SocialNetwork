{
 "cells": [
  {
   "cell_type": "markdown",
   "metadata": {},
   "source": [
    "## LEGENDA 'Conservation Status'\n",
    "Least Concern (LC): Indica che una specie non è attualmente a rischio di estinzione. Queste specie sono considerate relativamente sicure in natura.\n",
    "\n",
    "Vulnerable (VU): Indica che una specie è a rischio di estinzione in natura, ma non è ancora considerata in pericolo critico. Le specie vulnerabili potrebbero avere una popolazione ridotta o affrontare minacce significative nell'ambiente circostante.\n",
    "\n",
    "Endangered (EN): Indica che una specie è a rischio di estinzione imminente in natura. Queste specie hanno una popolazione molto bassa e/o affrontano minacce gravi che mettono a rischio la loro sopravvivenza.\n",
    "\n",
    "Not Evaluated (NE): Indica che lo stato di conservazione di una specie non è stato ancora valutato o non è disponibile alcuna informazione sulla sua popolazione o sulle minacce che affronta.\n",
    "\n",
    "Near Threatened (NT): Indica che una specie non è ancora classificata come vulnerabile, ma potrebbe diventarlo in futuro se le minacce che affronta non vengono affrontate o se la popolazione continua a diminuire.\n",
    "\n",
    "Critically Endangered (CR): Indica che una specie è in grave pericolo di estinzione in natura. Le specie classificate come criticamente in pericolo hanno una popolazione estremamente bassa e/o affrontano minacce estreme che mettono a rischio la loro sopravvivenza nel breve termine.\n",
    "\n",
    "Varies: Indica che lo stato di conservazione di una specie varia, a seconda delle diverse popolazioni o sotto-specie che possono essere classificate in modi diversi.\n",
    "\n",
    "Data Deficient (DD): Indica che non ci sono dati sufficienti per valutare lo stato di conservazione di una specie. Questo può essere dovuto alla mancanza di informazioni sulla popolazione, sulle minacce o sulla distribuzione della specie."
   ]
  },
  {
   "cell_type": "code",
   "execution_count": 106,
   "metadata": {},
   "outputs": [
    {
     "data": {
      "text/plain": [
       "Index(['Animal', 'Height (cm)', 'Weight (kg)', 'Color', 'Lifespan (years)',\n",
       "       'Diet', 'Habitat', 'Predators', 'Average Speed (km/h)',\n",
       "       'Countries Found', 'Conservation Status', 'Family',\n",
       "       'Gestation Period (days)', 'Top Speed (km/h)', 'Social Structure',\n",
       "       'Offspring per Birth', 'index'],\n",
       "      dtype='object')"
      ]
     },
     "execution_count": 106,
     "metadata": {},
     "output_type": "execute_result"
    }
   ],
   "source": [
    "import pandas as pd\n",
    "import numpy as np\n",
    "import networkx as nx\n",
    "import inflect\n",
    "\n",
    "df = pd.DataFrame(pd.read_csv('datasetAnimali/Animal Dataset.csv'))\n",
    "df['index'] = range(len(df))\n",
    "df.columns"
   ]
  },
  {
   "cell_type": "code",
   "execution_count": null,
   "metadata": {},
   "outputs": [],
   "source": [
    "df.isna().sum()"
   ]
  },
  {
   "cell_type": "code",
   "execution_count": null,
   "metadata": {},
   "outputs": [],
   "source": [
    "def uniqueValues(column_name):\n",
    "    return df[column_name].unique()"
   ]
  },
  {
   "cell_type": "code",
   "execution_count": null,
   "metadata": {},
   "outputs": [],
   "source": [
    "pd.set_option('display.max_columns', None)\n",
    "pd.set_option('display.max_rows', 50)"
   ]
  },
  {
   "cell_type": "code",
   "execution_count": null,
   "metadata": {},
   "outputs": [],
   "source": [
    "uniqueValues('Conservation Status')"
   ]
  },
  {
   "cell_type": "markdown",
   "metadata": {},
   "source": [
    "## Droppare animali estinti, i predatori Not Applicable e quelli che non hanno una area geografica"
   ]
  },
  {
   "cell_type": "code",
   "execution_count": null,
   "metadata": {},
   "outputs": [],
   "source": [
    "def contaValoriUnici(dataset,colonna):\n",
    "    for i in dataset[colonna].unique():\n",
    "        print(\"Valore \",i,\"counts: \",(dataset[colonna] ==i).sum())"
   ]
  },
  {
   "cell_type": "code",
   "execution_count": null,
   "metadata": {},
   "outputs": [],
   "source": [
    "def addPredators(nome_preda, arr_predators):\n",
    "    for nome_predatore in arr_predators:\n",
    "        df.loc[df['Animal'] == nome_preda, 'Predators'] = df.loc[df['Animal'] == nome_preda, 'Predators'] + ', ' + nome_predatore\n",
    "def replacePreators(nome_preda, arr_predators):\n",
    "    df.loc[df['Animal'] == nome_preda, 'Predators'] = arr_predators[0]\n",
    "    for nome_predatore in arr_predators:\n",
    "        if nome_predatore != arr_predators[0]:\n",
    "            df.loc[df['Animal'] == nome_preda, 'Predators'] = df.loc[df['Animal'] == nome_preda, 'Predators'] + ', ' + nome_predatore"
   ]
  },
  {
   "cell_type": "code",
   "execution_count": null,
   "metadata": {},
   "outputs": [],
   "source": [
    "# Elimino gli animali duplicati nella colonna Animal\n",
    "indici_righe_da_eliminare = [82, 85, 106, 110, 124, 131]\n",
    "df.drop(indici_righe_da_eliminare, inplace=True)"
   ]
  },
  {
   "cell_type": "code",
   "execution_count": null,
   "metadata": {},
   "outputs": [],
   "source": [
    "addPredators('African Elephant', ['Crocodile'])\n",
    "replacePreators('Alpine Ibex', ['Mountain Tigers','Wolves', 'Lynxes', 'Bears', 'Foxes'])\n",
    "replacePreators('Amazon Rainforest Frog', ['leimadophis epinephelus'])\n",
    "replacePreators('Arabian Oryx', ['Striped Hyenas', 'Arabian Wolves', 'Lions'])\n",
    "replacePreators('Arctic Fox', ['Polar Bears', 'Wolves', 'Golden Eagles', 'Grizzly Bears', 'Bald Eagles'])\n",
    "replacePreators('Asian Elephant', ['Tigres'])\n",
    "replacePreators('Atlantic Puffin', ['Great Skua', 'Great Black-backed Gull', 'Foxes'])\n",
    "addPredators('Aye-Aye', ['Fossas'])\n",
    "addPredators('Baird\\'s Tapir', ['Pumas'])\n",
    "replacePreators('Bald Eagle', ['Owls', 'Raccoons', 'Wolverines', 'Crows', 'Hawks'])\n",
    "addPredators('Banded Palm Civet', ['Owls', 'Snakes'])\n",
    "addPredators('Barbary Macaque', ['Domestic Dogs'])\n",
    "addPredators('Bearded Dragon', ['Foxes'])\n",
    "replacePreators('Blue Jay', ['Hawks', 'Owls', 'Falcons', 'Snakes'])\n",
    "addPredators('Blue-Footed Booby\t', ['Galapagos Hawk'])\n",
    "replacePreators('Bornean Orangutan', ['Leopards', 'Bearded Pigs', 'Crocodiles', 'Pythons', 'Black Eagles'])\n",
    "replacePreators('Bottlenose Dolphin', ['Tiger Sharks', 'Dusky Sharks', 'Bull Sharks', 'Great White Sharks'])\n",
    "replacePreators('Brown Bear', ['Wolves', 'Cougars'])\n",
    "replacePreators('Burmese Python', ['Asian Tigres', 'Leopards'])\n",
    "addPredators('Capybara', ['Caimans'])\n",
    "addPredators('Cheetah', ['Leopards'])\n",
    "replacePreators('Chinese Giant Salamander', ['Otters', 'Foxes', 'Weasels', 'Badgers'])\n",
    "replacePreators('Common Snapping Turtle', ['Foxes', 'Coyotes', 'Skunks', 'Minks', 'Fishers', 'Raccoons', 'Crows', 'Herons', 'Hawks', 'Owls', 'Bullfrogs', 'Fish', 'Snakes'])\n",
    "replacePreators('Dhole', ['Not Applicable'])\n",
    "replacePreators('Dingo', ['Crocodiles', 'Canid Species'])\n",
    "addPredators('Dugong', ['Saltwater Crocodiles'])\n",
    "addPredators('Eastern Gorilla', ['Crocodiles'])\n",
    "addPredators('Echidna', ['Feral Cats', 'Foxes', 'Goannas'])\n",
    "addPredators('Emperor Penguin', ['Sea Lions', 'Orcas'])\n",
    "addPredators('Emperor Tamarin', ['Wild Cats', 'Dogs', 'Snakes', 'Birds of Prey'])\n",
    "addPredators('Fennec Fox', ['Large Mammals'])\n",
    "replacePreators('Flying Fox', ['Eagles', 'Owls', 'Pythons'])\n",
    "addPredators('Galápagos Penguin', ['Sea Lions', 'Snakes', 'Owls', 'Hawks'])\n",
    "replacePreators('Galápagos Tortoise', ['Galápagos hawk'])\n",
    "addPredators('Gaur', ['Dhole', 'Saltwater Crocodiles'])\n",
    "addPredators('Gerenuk', ['African Wild Dogs', 'Cheetahs', 'Hyenas'])\n",
    "addPredators('Giant Panda', ['Yellow-Throated Martens', 'Eagles', 'Feral Dogs', 'Asian Black Bear'])\n",
    "addPredators('Gila Monster', ['Hawks', 'Owls', 'Snakes'])\n",
    "addPredators('Golden Lion Tamarin', ['Wild Cats'])\n",
    "addPredators('Green Anaconda', ['Crab-eating Foxes', 'Tegu Lizards', 'Crested Caracaras'])\n",
    "addPredators('Grevy\\'s Zebra', ['Leopards', 'Hunting Dogs', 'Cheetah'])\n",
    "addPredators('Harp Seal', ['Large Sharks'])\n",
    "replacePreators('Hummingbird', ['Owls', 'Grackles', 'Blue Jays', 'Herons', 'Tanagers', 'Loggerhead Shrikes', 'Gulls'])\n",
    "replacePreators('Japanese Macaque', ['Mountain Hawk Eagles', 'Feral Dogs', 'Raccoon Dogs'])\n",
    "replacePreators('Kangaroo Rat', ['Swift Foxes', 'Badgers', 'Bobcats',  'Coyotes', 'Snakes', 'Rattlesnakes', 'Raptors', 'Owls'])\n",
    "replacePreators('King Cobra', ['Birds', 'Mongooses'])\n",
    "addPredators('Lemur', ['Boas'])\n",
    "addPredators('Lion-tailed Macaque', ['Snakes', 'Raptors'])\n",
    "addPredators('Lyrebird', ['Quolls', 'Dogs', 'Feral Cats', 'Foxes'])\n",
    "addPredators('Mandrill', ['African Rock Pythons', 'Crowned Eagles'])\n",
    "replacePreators('Markhor', ['Eurasian Lynxs', 'Snow Leopards','Himalayan Wolfes', 'Brown Beas'])\n",
    "addPredators('Meerkat', ['Snakes'])\n",
    "replacePreators('Okapi', ['Leopards', 'Servals', 'Golden Cats'])\n",
    "addPredators('Orangutan', ['Large Pythons'])\n",
    "addPredators('Pangolin', ['Leopards', 'Hyenas', 'Pythons'])\n",
    "addPredators('Patagonian Mara', ['Felids', 'Grisons'])\n",
    "replacePreators('Pink Fairy Armadillo', ['Foxes', 'Birds of Prey', 'Birds', 'Canids'])\n",
    "replacePreators('Platypus', ['Snakes', 'Water Rats', 'Goannas', 'Foxes', 'Cats', 'Dogs'])\n",
    "replacePreators('Praying Mantis', ['Frogs', 'Lizards', 'Spiders', 'Hornets', 'Ants', 'Birds', 'Bats'])\n",
    "addPredators('Proboscis Monkey', ['Crocodiles', 'Pythons'])\n",
    "replacePreators('Pronghorn', ['Wolves', 'Foxes', 'Coyotes', 'Bobcats', 'Golden Eagles'])\n",
    "replacePreators('Rottweiler', ['Not Applicable'])\n",
    "addPredators('Serval', ['Wild Dogs'])\n",
    "replacePreators('Shoebill', ['Crocodiles'])\n",
    "replacePreators('Siberian Husky', ['Not Applicable'])\n",
    "addPredators('Sloth', ['Ocelots'])\n",
    "addPredators('Slow Loris', ['Orangutans', 'Hawk Eagles'])\n",
    "replacePreators('Snow Leopard', ['Humans'])\n",
    "replacePreators('Spider Monkey', ['Jaguars', 'Eagles', 'Snakes'])\n",
    "replacePreators('Spotted Hyena', ['Lions'])\n",
    "replacePreators('Star-Nosed Mole', ['Raptors', 'Screech', 'Great Horned', 'Long-Eared', 'Barred', 'Barn Owls', 'Red-Tailed Hawks'])\n",
    "addPredators('Sumatran Orangutan', ['Clouded Leopards', 'Large Pythons', 'Crocodiles'])\n",
    "addPredators('Tarsier', ['Monitor Lizards', 'Raptors'])\n",
    "replacePreators('Termite', ['Echidnas', 'Foxes', 'Galagos', 'Numbats', 'Mongooses', 'Mice', 'Pangolins', 'Genets', 'Civits', 'Bats', 'Echidnas', 'Moles', 'Shrews', 'Bibbies'])\n",
    "addPredators('Three-Toed Sloth', ['Ocelots', 'Jaguars'])\n",
    "replacePreators('Toco Toucan', ['Forest Eagles', 'Hawks', 'Owls', 'Boas', 'Jaguars', 'Margays'])\n",
    "addPredators('Tuatara', ['Birds of Pray'])\n",
    "replacePreators('Tufted Puffin', ['Bald Eagles', 'Peregrine Falcons', 'Snowy Owls', 'Eagle Owls', 'Sharks', 'Artic foxes', 'Red Foxes'])\n",
    "addPredators('Uakari', ['Birds of Pray'])\n",
    "addPredators('Vampire Bat', ['Eagles'])\n",
    "addPredators('Vaquita', ['Orcas'])\n",
    "replacePreators('Vulture', ['Hawks', 'Snakes', 'Wild Cats'])\n",
    "addPredators('Warthog', ['Spotted Hyenas', 'Cheetahs', 'African Wild Dogs'])\n",
    "addPredators('Water Buffalo', ['Lions'])\n",
    "replacePreators('Wild Boar', ['Wolves'])\n",
    "addPredators('Wildebeest', ['Hyenas', 'Cheetahs', 'Wild Dogs'])\n",
    "addPredators('Wolverine', ['Mountain Lions'])\n",
    "replacePreators('Wombat', ['Foxes', 'Dingoes', 'Wild Dogs', 'Eagles', 'Tasmanian Devils'])\n",
    "addPredators('Woodpecker', ['Feral Cats', 'Foxes', 'Hawks', 'Coyotes'])\n",
    "addPredators('Yellow-Eyed Penguin', ['Cats', 'Stoats', 'Dogs', 'Ferrets', 'Barracoota', 'Sharks', 'Sea Lions'])\n",
    "addPredators('Zebra', ['Wild dogs', 'Cheetahs'])"
   ]
  },
  {
   "cell_type": "code",
   "execution_count": null,
   "metadata": {},
   "outputs": [],
   "source": [
    "df.Predators.unique()\n",
    "df = df.rename(columns={'Predators': 'AllPredators'})"
   ]
  },
  {
   "cell_type": "code",
   "execution_count": null,
   "metadata": {},
   "outputs": [],
   "source": [
    "# Droppo animali estinti\n",
    "df = df.loc[(df['Conservation Status'] != 'Extinct (around 4,000 years ago)') &\n",
    "             (df['Conservation Status'] != 'Extinct (around 58 million years ago)') &\n",
    "               (df['Conservation Status'] != 'Extinct')]\n",
    "\n",
    "# Deroppo gli animali che non hanno predatori e che non hanno uno stato di conservazione definito\n",
    "df = df.loc[(df['AllPredators'] != 'Not Applicable') & (df['Conservation Status'] != 'Not Applicable')]"
   ]
  },
  {
   "cell_type": "code",
   "execution_count": null,
   "metadata": {},
   "outputs": [],
   "source": [
    "# Estraiamo gli animali e i predatori in un unico elenco\n",
    "animals = df['Animal'].tolist()\n",
    "predators = df['AllPredators'].str.split(', ').explode().unique().tolist()"
   ]
  },
  {
   "cell_type": "code",
   "execution_count": null,
   "metadata": {},
   "outputs": [],
   "source": [
    "animali_duplicati = df[df.duplicated(subset=['Animal'], keep=False)]\n",
    "animali_duplicati"
   ]
  },
  {
   "cell_type": "code",
   "execution_count": null,
   "metadata": {},
   "outputs": [],
   "source": [
    "def plural_to_singular(plural_words):\n",
    "    p = inflect.engine()\n",
    "    singular_words = []\n",
    "    for word in plural_words:\n",
    "        singular_word = p.singular_noun(word)\n",
    "        if singular_word:\n",
    "            singular_words.append(singular_word)\n",
    "        else:\n",
    "            singular_words.append(word)\n",
    "    return singular_words\n",
    "\n",
    "def plural_to_singular_word(word):\n",
    "    p = inflect.engine()\n",
    "    singular = p.singular_noun(word)\n",
    "    if singular:\n",
    "        return singular\n",
    "    else:\n",
    "        return word\n",
    "\n",
    "sing_predators = plural_to_singular(predators)\n",
    "\n",
    "animali_comuni = set(sing_predators).intersection(set(animals))\n",
    "animali_comuni"
   ]
  },
  {
   "cell_type": "code",
   "execution_count": null,
   "metadata": {},
   "outputs": [],
   "source": [
    "G = nx.DiGraph()\n",
    "\n",
    "# Aggiungere nodi al grafo con lo stato di conservazione, se presente\n",
    "for animal in animals:\n",
    "    status = df[df['Animal'] == animal]['Conservation Status'].iloc[0]\n",
    "    height = df[df['Animal'] == animal]['Height (cm)'].iloc[0]\n",
    "    weight = df[df['Animal'] == animal]['Weight (kg)'].iloc[0]\n",
    "    lifespan = df[df['Animal'] == animal]['Lifespan (years)'].iloc[0]\n",
    "    habitat = df[df['Animal'] == animal]['Habitat'].iloc[0]\n",
    "    family = df[df['Animal'] == animal]['Family'].iloc[0]\n",
    "    gestation_period = df[df['Animal'] == animal]['Gestation Period (days)'].iloc[0]\n",
    "    offspring_per_birth = df[df['Animal'] == animal]['Offspring per Birth'].iloc[0]\n",
    "    countries = df[df['Animal'] == animal]['Countries Found'].iloc[0]\n",
    "    pray = 'Yes'\n",
    "    if animal in animali_comuni:\n",
    "        pray = 'Not Only'\n",
    "    G.add_node(animal, conservation_status = status, pray = pray, height = height, weight = weight, lifespan = lifespan, habitat = habitat,\n",
    "               family = family, gestation_period = gestation_period, offspring_per_birth = offspring_per_birth, countries = countries)\n",
    "\n",
    "# Aggiungere nodi predatori al grafo solo se non sono presenti in animali_comuni\n",
    "for predator in sing_predators:\n",
    "    if predator not in animali_comuni:\n",
    "        G.add_node(predator, conservation_status = 'Not Have', pray = 'No')\n",
    "\n",
    "for _, row in df.iterrows():\n",
    "    animal = row['Animal']\n",
    "\n",
    "    for predator in row['AllPredators'].split(', '):\n",
    "        sing_predator = plural_to_singular_word(predator)\n",
    "        G.add_edge(sing_predator, animal)\n"
   ]
  },
  {
   "cell_type": "code",
   "execution_count": null,
   "metadata": {},
   "outputs": [],
   "source": [
    "def find_nodes_containing_keyword(G, keyword):\n",
    "    matching_nodes = []\n",
    "    for node in G.nodes():\n",
    "        if keyword.lower() in node.lower():\n",
    "            matching_nodes.append(node)\n",
    "    return matching_nodes\n",
    "\n",
    "keyword = \"orangutan\"\n",
    "matching_nodes = find_nodes_containing_keyword(G, keyword)\n",
    "if matching_nodes:\n",
    "    print(f\"I nodi che contengono la parola '{keyword}' nel loro nome sono:\")\n",
    "    for node in matching_nodes:\n",
    "        print(node)\n",
    "else:\n",
    "    print(f\"Nessun nodo trovato contenente la parola '{keyword}'.\")\n"
   ]
  },
  {
   "cell_type": "code",
   "execution_count": null,
   "metadata": {},
   "outputs": [],
   "source": [
    "def visualize_node_edges(G, node_name):\n",
    "    if node_name in G.nodes():\n",
    "        successors = list(G.successors(node_name))\n",
    "        predecessors = list(G.predecessors(node_name))\n",
    "        \n",
    "        print(f\"Gli archi uscenti dal nodo {node_name} sono:\")\n",
    "        for successor in successors:\n",
    "            print(f\"{node_name} -> {successor}\")\n",
    "        \n",
    "        print(f\"\\nGli archi entranti nel nodo {node_name} sono:\")\n",
    "        for predecessor in predecessors:\n",
    "            print(f\"{predecessor} -> {node_name}\")\n",
    "    else:\n",
    "        print(f\"Il nodo {node_name} non esiste nel grafo.\")\n",
    "\n",
    "node_name = \"Wolf\"\n",
    "visualize_node_edges(G, node_name)\n"
   ]
  },
  {
   "cell_type": "code",
   "execution_count": null,
   "metadata": {},
   "outputs": [],
   "source": [
    "df['Weight (kg)'] = df['Weight (kg)'].str.replace(',', '.')"
   ]
  },
  {
   "cell_type": "code",
   "execution_count": null,
   "metadata": {},
   "outputs": [],
   "source": [
    "import re\n",
    "\n",
    "def transform_weight(weight_str):\n",
    "    if \"Up to\" in weight_str:\n",
    "        return float(re.findall(r'\\d*\\.?\\d+', weight_str)[0])\n",
    "    else:\n",
    "        if weight_str == 'Varies':\n",
    "            return -1\n",
    "        min_weight, max_weight = map(float, re.findall(r'\\d*\\.?\\d+', weight_str))\n",
    "        return (min_weight + max_weight) / 2"
   ]
  },
  {
   "cell_type": "code",
   "execution_count": null,
   "metadata": {},
   "outputs": [],
   "source": [
    "df['Weight (kg)'] = df['Weight (kg)'].apply(transform_weight)"
   ]
  },
  {
   "cell_type": "code",
   "execution_count": null,
   "metadata": {},
   "outputs": [],
   "source": [
    "#Adesso voglio raggruppare gli animali in leggeri, medi, grandi\n",
    "\n",
    "def label_weight(weight):\n",
    "    if weight == -1:\n",
    "        return 'Not Applicable'\n",
    "    elif weight < 30:\n",
    "        return 'Small'\n",
    "    elif 30 <= weight <= 60:\n",
    "        return 'Medium'\n",
    "    else:\n",
    "        return 'Heavy'\n",
    "    \n",
    "df['weight_labeled'] = df['Weight (kg)'].apply(label_weight)"
   ]
  },
  {
   "cell_type": "code",
   "execution_count": null,
   "metadata": {},
   "outputs": [],
   "source": [
    "#nx.write_gexf(G, 'new_animals_cleared.gexf')"
   ]
  },
  {
   "cell_type": "code",
   "execution_count": 107,
   "metadata": {},
   "outputs": [
    {
     "data": {
      "text/plain": [
       "array(['Savannas, Grasslands', 'Grasslands, Savannas', 'Savannah, Forest',\n",
       "       'Savannahs', 'Mountains, Alpine', 'Amazon Rainforest',\n",
       "       'Grasslands, Plains', 'Grasslands, Forests',\n",
       "       'Middle East, North Africa', 'Desert', 'Tundra',\n",
       "       'Freshwater Rivers, Lakes', 'North Atlantic, Arctic',\n",
       "       'Oceans, Coastal Areas', 'Coastal Waters', 'Lakes, Canals',\n",
       "       'Rainforests', 'Rainforests, Grasslands', 'Forests, Lakes, Coasts',\n",
       "       'Forests', 'Forests, Mountains', 'Oceans', 'Deserts, Woodlands',\n",
       "       'Grasslands', 'Grasslands, Mangroves', 'Deep-sea',\n",
       "       'Forests, Urban Areas', 'Coastal Areas', 'Coral Reefs, Tide Pools',\n",
       "       'Human Dwellings', 'Grasslands, Swamps', 'Freshwater',\n",
       "       'Coral Reefs', 'Deep-sea, Caves', 'Rainforests, Madagascar',\n",
       "       'Worldwide', 'Forests, Grasslands', 'Coastal Waters, Seagrass',\n",
       "       'Amazon Basin', 'Antarctic', 'Gardens, Grasslands',\n",
       "       'Sahara Desert', 'Forests, Caves', 'Northern Australia',\n",
       "       'Galápagos Islands', 'Varies', 'Savannas, Scrublands',\n",
       "       'Rivers, Lakes', 'Ocean Floor', 'Temperate Broadleaf Forests',\n",
       "       'Deserts, Scrubland', 'Tropical Rainforests', 'Swamps, Marshes',\n",
       "       'Ocean Floor, Deep-sea', 'Arctic, Atlantic Ocean',\n",
       "       'Ocean Floor, Coastal Areas', 'Americas',\n",
       "       'Mediterranean Scrublands', 'Forests, Islands', 'Deserts',\n",
       "       'Islands, Grasslands', 'Seaweed Beds', 'Western Ghats, India',\n",
       "       'Rivers, Coastal Areas', 'Mountains', 'Arid regions', 'Various',\n",
       "       'Rainforests, Mountains', 'Underground Tunnels', 'Arctic Waters',\n",
       "       'Oceans, Coral Reefs', 'Eucalyptus Forests', 'Central Africa',\n",
       "       'Eastern Australia', 'Arctic', 'Forests, Woodlands',\n",
       "       'Mangroves, Rainforests', 'Tropical and Subtropical',\n",
       "       'Scrublands, Forests', 'Himalayan Foothills',\n",
       "       'Grasslands, Wetlands', 'Cold Regions', 'Mountains, Steppes',\n",
       "       'Arctic, North America', 'Grasslands, Savannahs',\n",
       "       'Wetlands, Forests', 'Tropical Forests', 'Australia',\n",
       "       'Desert, Scrublands', 'Wetlands', 'Islands, Coastal Areas',\n",
       "       'Caves, Forests', 'Gulf of California', 'Arctic, Coastal Areas',\n",
       "       'Savannahs, Grasslands', 'Boreal Forests, Tundra',\n",
       "       'Hydrothermal Vents'], dtype=object)"
      ]
     },
     "execution_count": 107,
     "metadata": {},
     "output_type": "execute_result"
    }
   ],
   "source": [
    "df['Habitat'].unique()"
   ]
  }
 ],
 "metadata": {
  "kernelspec": {
   "display_name": "Python 3",
   "language": "python",
   "name": "python3"
  },
  "language_info": {
   "codemirror_mode": {
    "name": "ipython",
    "version": 3
   },
   "file_extension": ".py",
   "mimetype": "text/x-python",
   "name": "python",
   "nbconvert_exporter": "python",
   "pygments_lexer": "ipython3",
   "version": "3.12.1"
  }
 },
 "nbformat": 4,
 "nbformat_minor": 2
}
